{
  "nbformat": 4,
  "nbformat_minor": 0,
  "metadata": {
    "colab": {
      "provenance": [],
      "gpuType": "A100",
      "machine_shape": "hm"
    },
    "kernelspec": {
      "name": "python3",
      "display_name": "Python 3"
    },
    "language_info": {
      "name": "python"
    },
    "accelerator": "GPU",
    "widgets": {
      "application/vnd.jupyter.widget-state+json": {
        "d86f26c7129f4be78962f924d47c7e48": {
          "model_module": "@jupyter-widgets/controls",
          "model_name": "HBoxModel",
          "model_module_version": "1.5.0",
          "state": {
            "_dom_classes": [],
            "_model_module": "@jupyter-widgets/controls",
            "_model_module_version": "1.5.0",
            "_model_name": "HBoxModel",
            "_view_count": null,
            "_view_module": "@jupyter-widgets/controls",
            "_view_module_version": "1.5.0",
            "_view_name": "HBoxView",
            "box_style": "",
            "children": [
              "IPY_MODEL_a2a62d2ebf6c44a0916a8a9b2f7a34e1",
              "IPY_MODEL_be4ae66854ed4824a4c0f08ed13ba8f6",
              "IPY_MODEL_4a96d78285ff411c9cc0be5ac5e83b1a"
            ],
            "layout": "IPY_MODEL_d7cad02a3a23488f91c6e7ae1633f1c8"
          }
        },
        "a2a62d2ebf6c44a0916a8a9b2f7a34e1": {
          "model_module": "@jupyter-widgets/controls",
          "model_name": "HTMLModel",
          "model_module_version": "1.5.0",
          "state": {
            "_dom_classes": [],
            "_model_module": "@jupyter-widgets/controls",
            "_model_module_version": "1.5.0",
            "_model_name": "HTMLModel",
            "_view_count": null,
            "_view_module": "@jupyter-widgets/controls",
            "_view_module_version": "1.5.0",
            "_view_name": "HTMLView",
            "description": "",
            "description_tooltip": null,
            "layout": "IPY_MODEL_80e54ba09a5247ebaae0c895c04b0d0a",
            "placeholder": "​",
            "style": "IPY_MODEL_9669293acc1f4acf87d7bf0d5eb03768",
            "value": "Map: 100%"
          }
        },
        "be4ae66854ed4824a4c0f08ed13ba8f6": {
          "model_module": "@jupyter-widgets/controls",
          "model_name": "FloatProgressModel",
          "model_module_version": "1.5.0",
          "state": {
            "_dom_classes": [],
            "_model_module": "@jupyter-widgets/controls",
            "_model_module_version": "1.5.0",
            "_model_name": "FloatProgressModel",
            "_view_count": null,
            "_view_module": "@jupyter-widgets/controls",
            "_view_module_version": "1.5.0",
            "_view_name": "ProgressView",
            "bar_style": "success",
            "description": "",
            "description_tooltip": null,
            "layout": "IPY_MODEL_564491c1db204e37b428e6a94c6e8ef7",
            "max": 1048,
            "min": 0,
            "orientation": "horizontal",
            "style": "IPY_MODEL_00adaee81da14bfd9af1bcf92d970e0d",
            "value": 1048
          }
        },
        "4a96d78285ff411c9cc0be5ac5e83b1a": {
          "model_module": "@jupyter-widgets/controls",
          "model_name": "HTMLModel",
          "model_module_version": "1.5.0",
          "state": {
            "_dom_classes": [],
            "_model_module": "@jupyter-widgets/controls",
            "_model_module_version": "1.5.0",
            "_model_name": "HTMLModel",
            "_view_count": null,
            "_view_module": "@jupyter-widgets/controls",
            "_view_module_version": "1.5.0",
            "_view_name": "HTMLView",
            "description": "",
            "description_tooltip": null,
            "layout": "IPY_MODEL_e10d92afff124f0f90c79b4ccad8b343",
            "placeholder": "​",
            "style": "IPY_MODEL_60c3f1cb9f0e47c9bdb2cb269e49188f",
            "value": " 1048/1048 [00:00&lt;00:00, 1663.91 examples/s]"
          }
        },
        "d7cad02a3a23488f91c6e7ae1633f1c8": {
          "model_module": "@jupyter-widgets/base",
          "model_name": "LayoutModel",
          "model_module_version": "1.2.0",
          "state": {
            "_model_module": "@jupyter-widgets/base",
            "_model_module_version": "1.2.0",
            "_model_name": "LayoutModel",
            "_view_count": null,
            "_view_module": "@jupyter-widgets/base",
            "_view_module_version": "1.2.0",
            "_view_name": "LayoutView",
            "align_content": null,
            "align_items": null,
            "align_self": null,
            "border": null,
            "bottom": null,
            "display": null,
            "flex": null,
            "flex_flow": null,
            "grid_area": null,
            "grid_auto_columns": null,
            "grid_auto_flow": null,
            "grid_auto_rows": null,
            "grid_column": null,
            "grid_gap": null,
            "grid_row": null,
            "grid_template_areas": null,
            "grid_template_columns": null,
            "grid_template_rows": null,
            "height": null,
            "justify_content": null,
            "justify_items": null,
            "left": null,
            "margin": null,
            "max_height": null,
            "max_width": null,
            "min_height": null,
            "min_width": null,
            "object_fit": null,
            "object_position": null,
            "order": null,
            "overflow": null,
            "overflow_x": null,
            "overflow_y": null,
            "padding": null,
            "right": null,
            "top": null,
            "visibility": null,
            "width": null
          }
        },
        "80e54ba09a5247ebaae0c895c04b0d0a": {
          "model_module": "@jupyter-widgets/base",
          "model_name": "LayoutModel",
          "model_module_version": "1.2.0",
          "state": {
            "_model_module": "@jupyter-widgets/base",
            "_model_module_version": "1.2.0",
            "_model_name": "LayoutModel",
            "_view_count": null,
            "_view_module": "@jupyter-widgets/base",
            "_view_module_version": "1.2.0",
            "_view_name": "LayoutView",
            "align_content": null,
            "align_items": null,
            "align_self": null,
            "border": null,
            "bottom": null,
            "display": null,
            "flex": null,
            "flex_flow": null,
            "grid_area": null,
            "grid_auto_columns": null,
            "grid_auto_flow": null,
            "grid_auto_rows": null,
            "grid_column": null,
            "grid_gap": null,
            "grid_row": null,
            "grid_template_areas": null,
            "grid_template_columns": null,
            "grid_template_rows": null,
            "height": null,
            "justify_content": null,
            "justify_items": null,
            "left": null,
            "margin": null,
            "max_height": null,
            "max_width": null,
            "min_height": null,
            "min_width": null,
            "object_fit": null,
            "object_position": null,
            "order": null,
            "overflow": null,
            "overflow_x": null,
            "overflow_y": null,
            "padding": null,
            "right": null,
            "top": null,
            "visibility": null,
            "width": null
          }
        },
        "9669293acc1f4acf87d7bf0d5eb03768": {
          "model_module": "@jupyter-widgets/controls",
          "model_name": "DescriptionStyleModel",
          "model_module_version": "1.5.0",
          "state": {
            "_model_module": "@jupyter-widgets/controls",
            "_model_module_version": "1.5.0",
            "_model_name": "DescriptionStyleModel",
            "_view_count": null,
            "_view_module": "@jupyter-widgets/base",
            "_view_module_version": "1.2.0",
            "_view_name": "StyleView",
            "description_width": ""
          }
        },
        "564491c1db204e37b428e6a94c6e8ef7": {
          "model_module": "@jupyter-widgets/base",
          "model_name": "LayoutModel",
          "model_module_version": "1.2.0",
          "state": {
            "_model_module": "@jupyter-widgets/base",
            "_model_module_version": "1.2.0",
            "_model_name": "LayoutModel",
            "_view_count": null,
            "_view_module": "@jupyter-widgets/base",
            "_view_module_version": "1.2.0",
            "_view_name": "LayoutView",
            "align_content": null,
            "align_items": null,
            "align_self": null,
            "border": null,
            "bottom": null,
            "display": null,
            "flex": null,
            "flex_flow": null,
            "grid_area": null,
            "grid_auto_columns": null,
            "grid_auto_flow": null,
            "grid_auto_rows": null,
            "grid_column": null,
            "grid_gap": null,
            "grid_row": null,
            "grid_template_areas": null,
            "grid_template_columns": null,
            "grid_template_rows": null,
            "height": null,
            "justify_content": null,
            "justify_items": null,
            "left": null,
            "margin": null,
            "max_height": null,
            "max_width": null,
            "min_height": null,
            "min_width": null,
            "object_fit": null,
            "object_position": null,
            "order": null,
            "overflow": null,
            "overflow_x": null,
            "overflow_y": null,
            "padding": null,
            "right": null,
            "top": null,
            "visibility": null,
            "width": null
          }
        },
        "00adaee81da14bfd9af1bcf92d970e0d": {
          "model_module": "@jupyter-widgets/controls",
          "model_name": "ProgressStyleModel",
          "model_module_version": "1.5.0",
          "state": {
            "_model_module": "@jupyter-widgets/controls",
            "_model_module_version": "1.5.0",
            "_model_name": "ProgressStyleModel",
            "_view_count": null,
            "_view_module": "@jupyter-widgets/base",
            "_view_module_version": "1.2.0",
            "_view_name": "StyleView",
            "bar_color": null,
            "description_width": ""
          }
        },
        "e10d92afff124f0f90c79b4ccad8b343": {
          "model_module": "@jupyter-widgets/base",
          "model_name": "LayoutModel",
          "model_module_version": "1.2.0",
          "state": {
            "_model_module": "@jupyter-widgets/base",
            "_model_module_version": "1.2.0",
            "_model_name": "LayoutModel",
            "_view_count": null,
            "_view_module": "@jupyter-widgets/base",
            "_view_module_version": "1.2.0",
            "_view_name": "LayoutView",
            "align_content": null,
            "align_items": null,
            "align_self": null,
            "border": null,
            "bottom": null,
            "display": null,
            "flex": null,
            "flex_flow": null,
            "grid_area": null,
            "grid_auto_columns": null,
            "grid_auto_flow": null,
            "grid_auto_rows": null,
            "grid_column": null,
            "grid_gap": null,
            "grid_row": null,
            "grid_template_areas": null,
            "grid_template_columns": null,
            "grid_template_rows": null,
            "height": null,
            "justify_content": null,
            "justify_items": null,
            "left": null,
            "margin": null,
            "max_height": null,
            "max_width": null,
            "min_height": null,
            "min_width": null,
            "object_fit": null,
            "object_position": null,
            "order": null,
            "overflow": null,
            "overflow_x": null,
            "overflow_y": null,
            "padding": null,
            "right": null,
            "top": null,
            "visibility": null,
            "width": null
          }
        },
        "60c3f1cb9f0e47c9bdb2cb269e49188f": {
          "model_module": "@jupyter-widgets/controls",
          "model_name": "DescriptionStyleModel",
          "model_module_version": "1.5.0",
          "state": {
            "_model_module": "@jupyter-widgets/controls",
            "_model_module_version": "1.5.0",
            "_model_name": "DescriptionStyleModel",
            "_view_count": null,
            "_view_module": "@jupyter-widgets/base",
            "_view_module_version": "1.2.0",
            "_view_name": "StyleView",
            "description_width": ""
          }
        },
        "b1fa253ec22743b5bc9e0a743778e639": {
          "model_module": "@jupyter-widgets/controls",
          "model_name": "HBoxModel",
          "model_module_version": "1.5.0",
          "state": {
            "_dom_classes": [],
            "_model_module": "@jupyter-widgets/controls",
            "_model_module_version": "1.5.0",
            "_model_name": "HBoxModel",
            "_view_count": null,
            "_view_module": "@jupyter-widgets/controls",
            "_view_module_version": "1.5.0",
            "_view_name": "HBoxView",
            "box_style": "",
            "children": [
              "IPY_MODEL_74d18b6edc654788b212322776f77be3",
              "IPY_MODEL_6869b2ab97234e499643653f53a22e70",
              "IPY_MODEL_605cc75018ec4fd6aa427d3979261170"
            ],
            "layout": "IPY_MODEL_4d43b9c2dd544082a4f6448e87ce7991"
          }
        },
        "74d18b6edc654788b212322776f77be3": {
          "model_module": "@jupyter-widgets/controls",
          "model_name": "HTMLModel",
          "model_module_version": "1.5.0",
          "state": {
            "_dom_classes": [],
            "_model_module": "@jupyter-widgets/controls",
            "_model_module_version": "1.5.0",
            "_model_name": "HTMLModel",
            "_view_count": null,
            "_view_module": "@jupyter-widgets/controls",
            "_view_module_version": "1.5.0",
            "_view_name": "HTMLView",
            "description": "",
            "description_tooltip": null,
            "layout": "IPY_MODEL_8a2ea69c529d4dcd8224aca0f54dde13",
            "placeholder": "​",
            "style": "IPY_MODEL_c0ce2c04d79b4bad86ae447ac7f8de06",
            "value": "Map: 100%"
          }
        },
        "6869b2ab97234e499643653f53a22e70": {
          "model_module": "@jupyter-widgets/controls",
          "model_name": "FloatProgressModel",
          "model_module_version": "1.5.0",
          "state": {
            "_dom_classes": [],
            "_model_module": "@jupyter-widgets/controls",
            "_model_module_version": "1.5.0",
            "_model_name": "FloatProgressModel",
            "_view_count": null,
            "_view_module": "@jupyter-widgets/controls",
            "_view_module_version": "1.5.0",
            "_view_name": "ProgressView",
            "bar_style": "success",
            "description": "",
            "description_tooltip": null,
            "layout": "IPY_MODEL_c4b860866bde48f3bfab01b5ffb843f5",
            "max": 131,
            "min": 0,
            "orientation": "horizontal",
            "style": "IPY_MODEL_d46fc686e4514f82a44ad1357b329ff1",
            "value": 131
          }
        },
        "605cc75018ec4fd6aa427d3979261170": {
          "model_module": "@jupyter-widgets/controls",
          "model_name": "HTMLModel",
          "model_module_version": "1.5.0",
          "state": {
            "_dom_classes": [],
            "_model_module": "@jupyter-widgets/controls",
            "_model_module_version": "1.5.0",
            "_model_name": "HTMLModel",
            "_view_count": null,
            "_view_module": "@jupyter-widgets/controls",
            "_view_module_version": "1.5.0",
            "_view_name": "HTMLView",
            "description": "",
            "description_tooltip": null,
            "layout": "IPY_MODEL_8e9eb2c47d6d4ec19f2d952abd44148b",
            "placeholder": "​",
            "style": "IPY_MODEL_8601dbcf05114877b68e02f759d7b907",
            "value": " 131/131 [00:00&lt;00:00, 1379.94 examples/s]"
          }
        },
        "4d43b9c2dd544082a4f6448e87ce7991": {
          "model_module": "@jupyter-widgets/base",
          "model_name": "LayoutModel",
          "model_module_version": "1.2.0",
          "state": {
            "_model_module": "@jupyter-widgets/base",
            "_model_module_version": "1.2.0",
            "_model_name": "LayoutModel",
            "_view_count": null,
            "_view_module": "@jupyter-widgets/base",
            "_view_module_version": "1.2.0",
            "_view_name": "LayoutView",
            "align_content": null,
            "align_items": null,
            "align_self": null,
            "border": null,
            "bottom": null,
            "display": null,
            "flex": null,
            "flex_flow": null,
            "grid_area": null,
            "grid_auto_columns": null,
            "grid_auto_flow": null,
            "grid_auto_rows": null,
            "grid_column": null,
            "grid_gap": null,
            "grid_row": null,
            "grid_template_areas": null,
            "grid_template_columns": null,
            "grid_template_rows": null,
            "height": null,
            "justify_content": null,
            "justify_items": null,
            "left": null,
            "margin": null,
            "max_height": null,
            "max_width": null,
            "min_height": null,
            "min_width": null,
            "object_fit": null,
            "object_position": null,
            "order": null,
            "overflow": null,
            "overflow_x": null,
            "overflow_y": null,
            "padding": null,
            "right": null,
            "top": null,
            "visibility": null,
            "width": null
          }
        },
        "8a2ea69c529d4dcd8224aca0f54dde13": {
          "model_module": "@jupyter-widgets/base",
          "model_name": "LayoutModel",
          "model_module_version": "1.2.0",
          "state": {
            "_model_module": "@jupyter-widgets/base",
            "_model_module_version": "1.2.0",
            "_model_name": "LayoutModel",
            "_view_count": null,
            "_view_module": "@jupyter-widgets/base",
            "_view_module_version": "1.2.0",
            "_view_name": "LayoutView",
            "align_content": null,
            "align_items": null,
            "align_self": null,
            "border": null,
            "bottom": null,
            "display": null,
            "flex": null,
            "flex_flow": null,
            "grid_area": null,
            "grid_auto_columns": null,
            "grid_auto_flow": null,
            "grid_auto_rows": null,
            "grid_column": null,
            "grid_gap": null,
            "grid_row": null,
            "grid_template_areas": null,
            "grid_template_columns": null,
            "grid_template_rows": null,
            "height": null,
            "justify_content": null,
            "justify_items": null,
            "left": null,
            "margin": null,
            "max_height": null,
            "max_width": null,
            "min_height": null,
            "min_width": null,
            "object_fit": null,
            "object_position": null,
            "order": null,
            "overflow": null,
            "overflow_x": null,
            "overflow_y": null,
            "padding": null,
            "right": null,
            "top": null,
            "visibility": null,
            "width": null
          }
        },
        "c0ce2c04d79b4bad86ae447ac7f8de06": {
          "model_module": "@jupyter-widgets/controls",
          "model_name": "DescriptionStyleModel",
          "model_module_version": "1.5.0",
          "state": {
            "_model_module": "@jupyter-widgets/controls",
            "_model_module_version": "1.5.0",
            "_model_name": "DescriptionStyleModel",
            "_view_count": null,
            "_view_module": "@jupyter-widgets/base",
            "_view_module_version": "1.2.0",
            "_view_name": "StyleView",
            "description_width": ""
          }
        },
        "c4b860866bde48f3bfab01b5ffb843f5": {
          "model_module": "@jupyter-widgets/base",
          "model_name": "LayoutModel",
          "model_module_version": "1.2.0",
          "state": {
            "_model_module": "@jupyter-widgets/base",
            "_model_module_version": "1.2.0",
            "_model_name": "LayoutModel",
            "_view_count": null,
            "_view_module": "@jupyter-widgets/base",
            "_view_module_version": "1.2.0",
            "_view_name": "LayoutView",
            "align_content": null,
            "align_items": null,
            "align_self": null,
            "border": null,
            "bottom": null,
            "display": null,
            "flex": null,
            "flex_flow": null,
            "grid_area": null,
            "grid_auto_columns": null,
            "grid_auto_flow": null,
            "grid_auto_rows": null,
            "grid_column": null,
            "grid_gap": null,
            "grid_row": null,
            "grid_template_areas": null,
            "grid_template_columns": null,
            "grid_template_rows": null,
            "height": null,
            "justify_content": null,
            "justify_items": null,
            "left": null,
            "margin": null,
            "max_height": null,
            "max_width": null,
            "min_height": null,
            "min_width": null,
            "object_fit": null,
            "object_position": null,
            "order": null,
            "overflow": null,
            "overflow_x": null,
            "overflow_y": null,
            "padding": null,
            "right": null,
            "top": null,
            "visibility": null,
            "width": null
          }
        },
        "d46fc686e4514f82a44ad1357b329ff1": {
          "model_module": "@jupyter-widgets/controls",
          "model_name": "ProgressStyleModel",
          "model_module_version": "1.5.0",
          "state": {
            "_model_module": "@jupyter-widgets/controls",
            "_model_module_version": "1.5.0",
            "_model_name": "ProgressStyleModel",
            "_view_count": null,
            "_view_module": "@jupyter-widgets/base",
            "_view_module_version": "1.2.0",
            "_view_name": "StyleView",
            "bar_color": null,
            "description_width": ""
          }
        },
        "8e9eb2c47d6d4ec19f2d952abd44148b": {
          "model_module": "@jupyter-widgets/base",
          "model_name": "LayoutModel",
          "model_module_version": "1.2.0",
          "state": {
            "_model_module": "@jupyter-widgets/base",
            "_model_module_version": "1.2.0",
            "_model_name": "LayoutModel",
            "_view_count": null,
            "_view_module": "@jupyter-widgets/base",
            "_view_module_version": "1.2.0",
            "_view_name": "LayoutView",
            "align_content": null,
            "align_items": null,
            "align_self": null,
            "border": null,
            "bottom": null,
            "display": null,
            "flex": null,
            "flex_flow": null,
            "grid_area": null,
            "grid_auto_columns": null,
            "grid_auto_flow": null,
            "grid_auto_rows": null,
            "grid_column": null,
            "grid_gap": null,
            "grid_row": null,
            "grid_template_areas": null,
            "grid_template_columns": null,
            "grid_template_rows": null,
            "height": null,
            "justify_content": null,
            "justify_items": null,
            "left": null,
            "margin": null,
            "max_height": null,
            "max_width": null,
            "min_height": null,
            "min_width": null,
            "object_fit": null,
            "object_position": null,
            "order": null,
            "overflow": null,
            "overflow_x": null,
            "overflow_y": null,
            "padding": null,
            "right": null,
            "top": null,
            "visibility": null,
            "width": null
          }
        },
        "8601dbcf05114877b68e02f759d7b907": {
          "model_module": "@jupyter-widgets/controls",
          "model_name": "DescriptionStyleModel",
          "model_module_version": "1.5.0",
          "state": {
            "_model_module": "@jupyter-widgets/controls",
            "_model_module_version": "1.5.0",
            "_model_name": "DescriptionStyleModel",
            "_view_count": null,
            "_view_module": "@jupyter-widgets/base",
            "_view_module_version": "1.2.0",
            "_view_name": "StyleView",
            "description_width": ""
          }
        },
        "dde09be73458401ab8a9611b4ed8ddf0": {
          "model_module": "@jupyter-widgets/controls",
          "model_name": "HBoxModel",
          "model_module_version": "1.5.0",
          "state": {
            "_dom_classes": [],
            "_model_module": "@jupyter-widgets/controls",
            "_model_module_version": "1.5.0",
            "_model_name": "HBoxModel",
            "_view_count": null,
            "_view_module": "@jupyter-widgets/controls",
            "_view_module_version": "1.5.0",
            "_view_name": "HBoxView",
            "box_style": "",
            "children": [
              "IPY_MODEL_ecee68dee5aa487c8ff738a554d51f4c",
              "IPY_MODEL_853c426ec31847c1a0756300ea66261d",
              "IPY_MODEL_a2d8b7dbc7c64e83b8bb0d54bb653871"
            ],
            "layout": "IPY_MODEL_da359f120b1443cf834ab893021f42d4"
          }
        },
        "ecee68dee5aa487c8ff738a554d51f4c": {
          "model_module": "@jupyter-widgets/controls",
          "model_name": "HTMLModel",
          "model_module_version": "1.5.0",
          "state": {
            "_dom_classes": [],
            "_model_module": "@jupyter-widgets/controls",
            "_model_module_version": "1.5.0",
            "_model_name": "HTMLModel",
            "_view_count": null,
            "_view_module": "@jupyter-widgets/controls",
            "_view_module_version": "1.5.0",
            "_view_name": "HTMLView",
            "description": "",
            "description_tooltip": null,
            "layout": "IPY_MODEL_a6bc401684184f67bcf21b686662990d",
            "placeholder": "​",
            "style": "IPY_MODEL_e3a852bba0fd483aa68def2f352803f6",
            "value": "Map: 100%"
          }
        },
        "853c426ec31847c1a0756300ea66261d": {
          "model_module": "@jupyter-widgets/controls",
          "model_name": "FloatProgressModel",
          "model_module_version": "1.5.0",
          "state": {
            "_dom_classes": [],
            "_model_module": "@jupyter-widgets/controls",
            "_model_module_version": "1.5.0",
            "_model_name": "FloatProgressModel",
            "_view_count": null,
            "_view_module": "@jupyter-widgets/controls",
            "_view_module_version": "1.5.0",
            "_view_name": "ProgressView",
            "bar_style": "success",
            "description": "",
            "description_tooltip": null,
            "layout": "IPY_MODEL_e1feafb454694e59b8ee949a486bc853",
            "max": 133,
            "min": 0,
            "orientation": "horizontal",
            "style": "IPY_MODEL_cab416a5284b444ba08463b7fe0cbaf5",
            "value": 133
          }
        },
        "a2d8b7dbc7c64e83b8bb0d54bb653871": {
          "model_module": "@jupyter-widgets/controls",
          "model_name": "HTMLModel",
          "model_module_version": "1.5.0",
          "state": {
            "_dom_classes": [],
            "_model_module": "@jupyter-widgets/controls",
            "_model_module_version": "1.5.0",
            "_model_name": "HTMLModel",
            "_view_count": null,
            "_view_module": "@jupyter-widgets/controls",
            "_view_module_version": "1.5.0",
            "_view_name": "HTMLView",
            "description": "",
            "description_tooltip": null,
            "layout": "IPY_MODEL_519b0383982146079bb7b2169aa8805d",
            "placeholder": "​",
            "style": "IPY_MODEL_924cf65e5233403dbd74a5998476b41d",
            "value": " 133/133 [00:00&lt;00:00, 1754.13 examples/s]"
          }
        },
        "da359f120b1443cf834ab893021f42d4": {
          "model_module": "@jupyter-widgets/base",
          "model_name": "LayoutModel",
          "model_module_version": "1.2.0",
          "state": {
            "_model_module": "@jupyter-widgets/base",
            "_model_module_version": "1.2.0",
            "_model_name": "LayoutModel",
            "_view_count": null,
            "_view_module": "@jupyter-widgets/base",
            "_view_module_version": "1.2.0",
            "_view_name": "LayoutView",
            "align_content": null,
            "align_items": null,
            "align_self": null,
            "border": null,
            "bottom": null,
            "display": null,
            "flex": null,
            "flex_flow": null,
            "grid_area": null,
            "grid_auto_columns": null,
            "grid_auto_flow": null,
            "grid_auto_rows": null,
            "grid_column": null,
            "grid_gap": null,
            "grid_row": null,
            "grid_template_areas": null,
            "grid_template_columns": null,
            "grid_template_rows": null,
            "height": null,
            "justify_content": null,
            "justify_items": null,
            "left": null,
            "margin": null,
            "max_height": null,
            "max_width": null,
            "min_height": null,
            "min_width": null,
            "object_fit": null,
            "object_position": null,
            "order": null,
            "overflow": null,
            "overflow_x": null,
            "overflow_y": null,
            "padding": null,
            "right": null,
            "top": null,
            "visibility": null,
            "width": null
          }
        },
        "a6bc401684184f67bcf21b686662990d": {
          "model_module": "@jupyter-widgets/base",
          "model_name": "LayoutModel",
          "model_module_version": "1.2.0",
          "state": {
            "_model_module": "@jupyter-widgets/base",
            "_model_module_version": "1.2.0",
            "_model_name": "LayoutModel",
            "_view_count": null,
            "_view_module": "@jupyter-widgets/base",
            "_view_module_version": "1.2.0",
            "_view_name": "LayoutView",
            "align_content": null,
            "align_items": null,
            "align_self": null,
            "border": null,
            "bottom": null,
            "display": null,
            "flex": null,
            "flex_flow": null,
            "grid_area": null,
            "grid_auto_columns": null,
            "grid_auto_flow": null,
            "grid_auto_rows": null,
            "grid_column": null,
            "grid_gap": null,
            "grid_row": null,
            "grid_template_areas": null,
            "grid_template_columns": null,
            "grid_template_rows": null,
            "height": null,
            "justify_content": null,
            "justify_items": null,
            "left": null,
            "margin": null,
            "max_height": null,
            "max_width": null,
            "min_height": null,
            "min_width": null,
            "object_fit": null,
            "object_position": null,
            "order": null,
            "overflow": null,
            "overflow_x": null,
            "overflow_y": null,
            "padding": null,
            "right": null,
            "top": null,
            "visibility": null,
            "width": null
          }
        },
        "e3a852bba0fd483aa68def2f352803f6": {
          "model_module": "@jupyter-widgets/controls",
          "model_name": "DescriptionStyleModel",
          "model_module_version": "1.5.0",
          "state": {
            "_model_module": "@jupyter-widgets/controls",
            "_model_module_version": "1.5.0",
            "_model_name": "DescriptionStyleModel",
            "_view_count": null,
            "_view_module": "@jupyter-widgets/base",
            "_view_module_version": "1.2.0",
            "_view_name": "StyleView",
            "description_width": ""
          }
        },
        "e1feafb454694e59b8ee949a486bc853": {
          "model_module": "@jupyter-widgets/base",
          "model_name": "LayoutModel",
          "model_module_version": "1.2.0",
          "state": {
            "_model_module": "@jupyter-widgets/base",
            "_model_module_version": "1.2.0",
            "_model_name": "LayoutModel",
            "_view_count": null,
            "_view_module": "@jupyter-widgets/base",
            "_view_module_version": "1.2.0",
            "_view_name": "LayoutView",
            "align_content": null,
            "align_items": null,
            "align_self": null,
            "border": null,
            "bottom": null,
            "display": null,
            "flex": null,
            "flex_flow": null,
            "grid_area": null,
            "grid_auto_columns": null,
            "grid_auto_flow": null,
            "grid_auto_rows": null,
            "grid_column": null,
            "grid_gap": null,
            "grid_row": null,
            "grid_template_areas": null,
            "grid_template_columns": null,
            "grid_template_rows": null,
            "height": null,
            "justify_content": null,
            "justify_items": null,
            "left": null,
            "margin": null,
            "max_height": null,
            "max_width": null,
            "min_height": null,
            "min_width": null,
            "object_fit": null,
            "object_position": null,
            "order": null,
            "overflow": null,
            "overflow_x": null,
            "overflow_y": null,
            "padding": null,
            "right": null,
            "top": null,
            "visibility": null,
            "width": null
          }
        },
        "cab416a5284b444ba08463b7fe0cbaf5": {
          "model_module": "@jupyter-widgets/controls",
          "model_name": "ProgressStyleModel",
          "model_module_version": "1.5.0",
          "state": {
            "_model_module": "@jupyter-widgets/controls",
            "_model_module_version": "1.5.0",
            "_model_name": "ProgressStyleModel",
            "_view_count": null,
            "_view_module": "@jupyter-widgets/base",
            "_view_module_version": "1.2.0",
            "_view_name": "StyleView",
            "bar_color": null,
            "description_width": ""
          }
        },
        "519b0383982146079bb7b2169aa8805d": {
          "model_module": "@jupyter-widgets/base",
          "model_name": "LayoutModel",
          "model_module_version": "1.2.0",
          "state": {
            "_model_module": "@jupyter-widgets/base",
            "_model_module_version": "1.2.0",
            "_model_name": "LayoutModel",
            "_view_count": null,
            "_view_module": "@jupyter-widgets/base",
            "_view_module_version": "1.2.0",
            "_view_name": "LayoutView",
            "align_content": null,
            "align_items": null,
            "align_self": null,
            "border": null,
            "bottom": null,
            "display": null,
            "flex": null,
            "flex_flow": null,
            "grid_area": null,
            "grid_auto_columns": null,
            "grid_auto_flow": null,
            "grid_auto_rows": null,
            "grid_column": null,
            "grid_gap": null,
            "grid_row": null,
            "grid_template_areas": null,
            "grid_template_columns": null,
            "grid_template_rows": null,
            "height": null,
            "justify_content": null,
            "justify_items": null,
            "left": null,
            "margin": null,
            "max_height": null,
            "max_width": null,
            "min_height": null,
            "min_width": null,
            "object_fit": null,
            "object_position": null,
            "order": null,
            "overflow": null,
            "overflow_x": null,
            "overflow_y": null,
            "padding": null,
            "right": null,
            "top": null,
            "visibility": null,
            "width": null
          }
        },
        "924cf65e5233403dbd74a5998476b41d": {
          "model_module": "@jupyter-widgets/controls",
          "model_name": "DescriptionStyleModel",
          "model_module_version": "1.5.0",
          "state": {
            "_model_module": "@jupyter-widgets/controls",
            "_model_module_version": "1.5.0",
            "_model_name": "DescriptionStyleModel",
            "_view_count": null,
            "_view_module": "@jupyter-widgets/base",
            "_view_module_version": "1.2.0",
            "_view_name": "StyleView",
            "description_width": ""
          }
        }
      }
    }
  },
  "cells": [
    {
      "cell_type": "markdown",
      "source": [
        "## Mental Health Classification\n",
        "\n",
        "The idea is to use reddit to identify text that can suggest suicide or depression tendency and see if we can correclty predict the potential tendency so we can get help. Doing this as part of a high school science project."
      ],
      "metadata": {
        "id": "kcHhu-VHPsHX"
      }
    },
    {
      "cell_type": "markdown",
      "source": [
        "### Download and view data"
      ],
      "metadata": {
        "id": "qkmcgkD3QnpD"
      }
    },
    {
      "cell_type": "code",
      "source": [
        "gpu_info = !nvidia-smi\n",
        "gpu_info = '\\n'.join(gpu_info)\n",
        "if gpu_info.find('failed') >= 0:\n",
        "  print('Not connected to a GPU')\n",
        "else:\n",
        "  print(gpu_info)"
      ],
      "metadata": {
        "colab": {
          "base_uri": "https://localhost:8080/"
        },
        "id": "nkekTzdQ658w",
        "outputId": "2a300538-c125-419f-8dc6-38084e1de765"
      },
      "execution_count": null,
      "outputs": [
        {
          "output_type": "stream",
          "name": "stdout",
          "text": [
            "Tue Feb 13 20:56:43 2024       \n",
            "+---------------------------------------------------------------------------------------+\n",
            "| NVIDIA-SMI 535.104.05             Driver Version: 535.104.05   CUDA Version: 12.2     |\n",
            "|-----------------------------------------+----------------------+----------------------+\n",
            "| GPU  Name                 Persistence-M | Bus-Id        Disp.A | Volatile Uncorr. ECC |\n",
            "| Fan  Temp   Perf          Pwr:Usage/Cap |         Memory-Usage | GPU-Util  Compute M. |\n",
            "|                                         |                      |               MIG M. |\n",
            "|=========================================+======================+======================|\n",
            "|   0  NVIDIA A100-SXM4-40GB          Off | 00000000:00:04.0 Off |                    0 |\n",
            "| N/A   34C    P0              51W / 400W |      2MiB / 40960MiB |      0%      Default |\n",
            "|                                         |                      |             Disabled |\n",
            "+-----------------------------------------+----------------------+----------------------+\n",
            "                                                                                         \n",
            "+---------------------------------------------------------------------------------------+\n",
            "| Processes:                                                                            |\n",
            "|  GPU   GI   CI        PID   Type   Process name                            GPU Memory |\n",
            "|        ID   ID                                                             Usage      |\n",
            "|=======================================================================================|\n",
            "|  No running processes found                                                           |\n",
            "+---------------------------------------------------------------------------------------+\n"
          ]
        }
      ]
    },
    {
      "cell_type": "code",
      "source": [
        "!pip install datasets"
      ],
      "metadata": {
        "colab": {
          "base_uri": "https://localhost:8080/"
        },
        "id": "obYZdR869xFH",
        "outputId": "95272b12-3ead-402e-b66b-e8b54723f4dd"
      },
      "execution_count": null,
      "outputs": [
        {
          "output_type": "stream",
          "name": "stdout",
          "text": [
            "Requirement already satisfied: datasets in /usr/local/lib/python3.10/dist-packages (2.17.0)\n",
            "Requirement already satisfied: filelock in /usr/local/lib/python3.10/dist-packages (from datasets) (3.13.1)\n",
            "Requirement already satisfied: numpy>=1.17 in /usr/local/lib/python3.10/dist-packages (from datasets) (1.25.2)\n",
            "Requirement already satisfied: pyarrow>=12.0.0 in /usr/local/lib/python3.10/dist-packages (from datasets) (15.0.0)\n",
            "Requirement already satisfied: pyarrow-hotfix in /usr/local/lib/python3.10/dist-packages (from datasets) (0.6)\n",
            "Requirement already satisfied: dill<0.3.9,>=0.3.0 in /usr/local/lib/python3.10/dist-packages (from datasets) (0.3.8)\n",
            "Requirement already satisfied: pandas in /usr/local/lib/python3.10/dist-packages (from datasets) (1.5.3)\n",
            "Requirement already satisfied: requests>=2.19.0 in /usr/local/lib/python3.10/dist-packages (from datasets) (2.31.0)\n",
            "Requirement already satisfied: tqdm>=4.62.1 in /usr/local/lib/python3.10/dist-packages (from datasets) (4.66.1)\n",
            "Requirement already satisfied: xxhash in /usr/local/lib/python3.10/dist-packages (from datasets) (3.4.1)\n",
            "Requirement already satisfied: multiprocess in /usr/local/lib/python3.10/dist-packages (from datasets) (0.70.16)\n",
            "Requirement already satisfied: fsspec[http]<=2023.10.0,>=2023.1.0 in /usr/local/lib/python3.10/dist-packages (from datasets) (2023.6.0)\n",
            "Requirement already satisfied: aiohttp in /usr/local/lib/python3.10/dist-packages (from datasets) (3.9.3)\n",
            "Requirement already satisfied: huggingface-hub>=0.19.4 in /usr/local/lib/python3.10/dist-packages (from datasets) (0.20.3)\n",
            "Requirement already satisfied: packaging in /usr/local/lib/python3.10/dist-packages (from datasets) (23.2)\n",
            "Requirement already satisfied: pyyaml>=5.1 in /usr/local/lib/python3.10/dist-packages (from datasets) (6.0.1)\n",
            "Requirement already satisfied: aiosignal>=1.1.2 in /usr/local/lib/python3.10/dist-packages (from aiohttp->datasets) (1.3.1)\n",
            "Requirement already satisfied: attrs>=17.3.0 in /usr/local/lib/python3.10/dist-packages (from aiohttp->datasets) (23.2.0)\n",
            "Requirement already satisfied: frozenlist>=1.1.1 in /usr/local/lib/python3.10/dist-packages (from aiohttp->datasets) (1.4.1)\n",
            "Requirement already satisfied: multidict<7.0,>=4.5 in /usr/local/lib/python3.10/dist-packages (from aiohttp->datasets) (6.0.5)\n",
            "Requirement already satisfied: yarl<2.0,>=1.0 in /usr/local/lib/python3.10/dist-packages (from aiohttp->datasets) (1.9.4)\n",
            "Requirement already satisfied: async-timeout<5.0,>=4.0 in /usr/local/lib/python3.10/dist-packages (from aiohttp->datasets) (4.0.3)\n",
            "Requirement already satisfied: typing-extensions>=3.7.4.3 in /usr/local/lib/python3.10/dist-packages (from huggingface-hub>=0.19.4->datasets) (4.9.0)\n",
            "Requirement already satisfied: charset-normalizer<4,>=2 in /usr/local/lib/python3.10/dist-packages (from requests>=2.19.0->datasets) (3.3.2)\n",
            "Requirement already satisfied: idna<4,>=2.5 in /usr/local/lib/python3.10/dist-packages (from requests>=2.19.0->datasets) (3.6)\n",
            "Requirement already satisfied: urllib3<3,>=1.21.1 in /usr/local/lib/python3.10/dist-packages (from requests>=2.19.0->datasets) (2.0.7)\n",
            "Requirement already satisfied: certifi>=2017.4.17 in /usr/local/lib/python3.10/dist-packages (from requests>=2.19.0->datasets) (2024.2.2)\n",
            "Requirement already satisfied: python-dateutil>=2.8.1 in /usr/local/lib/python3.10/dist-packages (from pandas->datasets) (2.8.2)\n",
            "Requirement already satisfied: pytz>=2020.1 in /usr/local/lib/python3.10/dist-packages (from pandas->datasets) (2023.4)\n",
            "Requirement already satisfied: six>=1.5 in /usr/local/lib/python3.10/dist-packages (from python-dateutil>=2.8.1->pandas->datasets) (1.16.0)\n"
          ]
        }
      ]
    },
    {
      "cell_type": "code",
      "source": [
        "!pip install -U accelerate"
      ],
      "metadata": {
        "colab": {
          "base_uri": "https://localhost:8080/"
        },
        "id": "x_5xLzTA4p74",
        "outputId": "3d2c7cbc-10aa-4303-a6a6-54e72dc2aa80"
      },
      "execution_count": null,
      "outputs": [
        {
          "output_type": "stream",
          "name": "stdout",
          "text": [
            "Requirement already satisfied: accelerate in /usr/local/lib/python3.10/dist-packages (0.27.2)\n",
            "Requirement already satisfied: numpy>=1.17 in /usr/local/lib/python3.10/dist-packages (from accelerate) (1.25.2)\n",
            "Requirement already satisfied: packaging>=20.0 in /usr/local/lib/python3.10/dist-packages (from accelerate) (23.2)\n",
            "Requirement already satisfied: psutil in /usr/local/lib/python3.10/dist-packages (from accelerate) (5.9.5)\n",
            "Requirement already satisfied: pyyaml in /usr/local/lib/python3.10/dist-packages (from accelerate) (6.0.1)\n",
            "Requirement already satisfied: torch>=1.10.0 in /usr/local/lib/python3.10/dist-packages (from accelerate) (2.1.0+cu121)\n",
            "Requirement already satisfied: huggingface-hub in /usr/local/lib/python3.10/dist-packages (from accelerate) (0.20.3)\n",
            "Requirement already satisfied: safetensors>=0.3.1 in /usr/local/lib/python3.10/dist-packages (from accelerate) (0.4.2)\n",
            "Requirement already satisfied: filelock in /usr/local/lib/python3.10/dist-packages (from torch>=1.10.0->accelerate) (3.13.1)\n",
            "Requirement already satisfied: typing-extensions in /usr/local/lib/python3.10/dist-packages (from torch>=1.10.0->accelerate) (4.9.0)\n",
            "Requirement already satisfied: sympy in /usr/local/lib/python3.10/dist-packages (from torch>=1.10.0->accelerate) (1.12)\n",
            "Requirement already satisfied: networkx in /usr/local/lib/python3.10/dist-packages (from torch>=1.10.0->accelerate) (3.2.1)\n",
            "Requirement already satisfied: jinja2 in /usr/local/lib/python3.10/dist-packages (from torch>=1.10.0->accelerate) (3.1.3)\n",
            "Requirement already satisfied: fsspec in /usr/local/lib/python3.10/dist-packages (from torch>=1.10.0->accelerate) (2023.6.0)\n",
            "Requirement already satisfied: triton==2.1.0 in /usr/local/lib/python3.10/dist-packages (from torch>=1.10.0->accelerate) (2.1.0)\n",
            "Requirement already satisfied: requests in /usr/local/lib/python3.10/dist-packages (from huggingface-hub->accelerate) (2.31.0)\n",
            "Requirement already satisfied: tqdm>=4.42.1 in /usr/local/lib/python3.10/dist-packages (from huggingface-hub->accelerate) (4.66.1)\n",
            "Requirement already satisfied: MarkupSafe>=2.0 in /usr/local/lib/python3.10/dist-packages (from jinja2->torch>=1.10.0->accelerate) (2.1.5)\n",
            "Requirement already satisfied: charset-normalizer<4,>=2 in /usr/local/lib/python3.10/dist-packages (from requests->huggingface-hub->accelerate) (3.3.2)\n",
            "Requirement already satisfied: idna<4,>=2.5 in /usr/local/lib/python3.10/dist-packages (from requests->huggingface-hub->accelerate) (3.6)\n",
            "Requirement already satisfied: urllib3<3,>=1.21.1 in /usr/local/lib/python3.10/dist-packages (from requests->huggingface-hub->accelerate) (2.0.7)\n",
            "Requirement already satisfied: certifi>=2017.4.17 in /usr/local/lib/python3.10/dist-packages (from requests->huggingface-hub->accelerate) (2024.2.2)\n",
            "Requirement already satisfied: mpmath>=0.19 in /usr/local/lib/python3.10/dist-packages (from sympy->torch>=1.10.0->accelerate) (1.3.0)\n"
          ]
        }
      ]
    },
    {
      "cell_type": "code",
      "source": [
        "!pip install -U transformers"
      ],
      "metadata": {
        "colab": {
          "base_uri": "https://localhost:8080/"
        },
        "id": "DAPwzb_6Nuxy",
        "outputId": "e64f812f-67f8-4cce-fee3-dfb6bbcb2fc6"
      },
      "execution_count": null,
      "outputs": [
        {
          "output_type": "stream",
          "name": "stdout",
          "text": [
            "Requirement already satisfied: transformers in /usr/local/lib/python3.10/dist-packages (4.37.2)\n",
            "Requirement already satisfied: filelock in /usr/local/lib/python3.10/dist-packages (from transformers) (3.13.1)\n",
            "Requirement already satisfied: huggingface-hub<1.0,>=0.19.3 in /usr/local/lib/python3.10/dist-packages (from transformers) (0.20.3)\n",
            "Requirement already satisfied: numpy>=1.17 in /usr/local/lib/python3.10/dist-packages (from transformers) (1.25.2)\n",
            "Requirement already satisfied: packaging>=20.0 in /usr/local/lib/python3.10/dist-packages (from transformers) (23.2)\n",
            "Requirement already satisfied: pyyaml>=5.1 in /usr/local/lib/python3.10/dist-packages (from transformers) (6.0.1)\n",
            "Requirement already satisfied: regex!=2019.12.17 in /usr/local/lib/python3.10/dist-packages (from transformers) (2023.12.25)\n",
            "Requirement already satisfied: requests in /usr/local/lib/python3.10/dist-packages (from transformers) (2.31.0)\n",
            "Requirement already satisfied: tokenizers<0.19,>=0.14 in /usr/local/lib/python3.10/dist-packages (from transformers) (0.15.1)\n",
            "Requirement already satisfied: safetensors>=0.4.1 in /usr/local/lib/python3.10/dist-packages (from transformers) (0.4.2)\n",
            "Requirement already satisfied: tqdm>=4.27 in /usr/local/lib/python3.10/dist-packages (from transformers) (4.66.1)\n",
            "Requirement already satisfied: fsspec>=2023.5.0 in /usr/local/lib/python3.10/dist-packages (from huggingface-hub<1.0,>=0.19.3->transformers) (2023.6.0)\n",
            "Requirement already satisfied: typing-extensions>=3.7.4.3 in /usr/local/lib/python3.10/dist-packages (from huggingface-hub<1.0,>=0.19.3->transformers) (4.9.0)\n",
            "Requirement already satisfied: charset-normalizer<4,>=2 in /usr/local/lib/python3.10/dist-packages (from requests->transformers) (3.3.2)\n",
            "Requirement already satisfied: idna<4,>=2.5 in /usr/local/lib/python3.10/dist-packages (from requests->transformers) (3.6)\n",
            "Requirement already satisfied: urllib3<3,>=1.21.1 in /usr/local/lib/python3.10/dist-packages (from requests->transformers) (2.0.7)\n",
            "Requirement already satisfied: certifi>=2017.4.17 in /usr/local/lib/python3.10/dist-packages (from requests->transformers) (2024.2.2)\n"
          ]
        }
      ]
    },
    {
      "cell_type": "code",
      "source": [
        "# Import necessary libraries\n",
        "import pandas as pd\n",
        "from sklearn.model_selection import train_test_split\n",
        "from datasets import Dataset, DatasetDict, load_metric\n",
        "from transformers import T5Tokenizer, T5ForConditionalGeneration, TrainingArguments, Trainer, AutoTokenizer"
      ],
      "metadata": {
        "id": "jsKr9QzRQbKP"
      },
      "execution_count": null,
      "outputs": []
    },
    {
      "cell_type": "code",
      "source": [
        "from sklearn.metrics import accuracy_score, recall_score, confusion_matrix\n",
        "import numpy as np\n",
        "import matplotlib.pyplot as plt\n"
      ],
      "metadata": {
        "id": "hxIbaS4KbPKA"
      },
      "execution_count": null,
      "outputs": []
    },
    {
      "cell_type": "markdown",
      "source": [
        "# Load and prepare datasets"
      ],
      "metadata": {
        "id": "oLVKhLKjT778"
      }
    },
    {
      "cell_type": "markdown",
      "source": [
        "**Load Datasets**\n",
        "\n",
        "load the CSV files and you will need to combine the seperate files into a single file and then split it into Train, Validate and Test"
      ],
      "metadata": {
        "id": "ob0obx0X-699"
      }
    },
    {
      "cell_type": "code",
      "source": [
        "# Load datasets\n",
        "def load_dataset(file_path):\n",
        "    df = pd.read_csv(file_path, sep = '|')\n",
        "    df.columns = ['text', 'labels']  # Assuming two columns: 'input' and 'output'\n",
        "    return df"
      ],
      "metadata": {
        "id": "76YsGzLb-6NC"
      },
      "execution_count": null,
      "outputs": []
    },
    {
      "cell_type": "markdown",
      "source": [
        "Split the data set into Train, validate and test"
      ],
      "metadata": {
        "id": "BHebTqguBFRF"
      }
    },
    {
      "cell_type": "code",
      "source": [
        "# Split dataset\n",
        "def split_dataset(df):\n",
        "    train_df, temp_df = train_test_split(df, test_size=0.2, random_state=42)\n",
        "    val_df, test_df = train_test_split(temp_df, test_size=0.5, random_state=42)\n",
        "    return map(Dataset.from_pandas, (train_df, val_df, test_df))"
      ],
      "metadata": {
        "id": "82Hls1Y-BDlV"
      },
      "execution_count": null,
      "outputs": []
    },
    {
      "cell_type": "markdown",
      "source": [
        "Now we load the data and complete the split"
      ],
      "metadata": {
        "id": "64CHerKRBy7E"
      }
    },
    {
      "cell_type": "code",
      "source": [
        "# Load and split each dataset\n",
        "sThread_train, sThread_val, sThread_test = split_dataset(load_dataset('tags.csv'))\n",
        "dThread_train, dThread_val, dThread_test = split_dataset(load_dataset('tagd.csv'))\n",
        "tThread_train, tThread_val, tThread_test = split_dataset(load_dataset('tagn.csv'))"
      ],
      "metadata": {
        "id": "Zhu7VFnnBzbk"
      },
      "execution_count": null,
      "outputs": []
    },
    {
      "cell_type": "markdown",
      "source": [
        "Combine the split data sets"
      ],
      "metadata": {
        "id": "VsPj91rKRATA"
      }
    },
    {
      "cell_type": "code",
      "source": [
        "combined_dataset = DatasetDict({\n",
        "    'train': Dataset.from_dict(pd.concat([sThread_train.to_pandas(), dThread_train.to_pandas(), tThread_train.to_pandas()])),\n",
        "    'validation': Dataset.from_dict(pd.concat([sThread_val.to_pandas(), dThread_val.to_pandas(), tThread_val.to_pandas()])),\n",
        "    'test': Dataset.from_dict(pd.concat([sThread_test.to_pandas(), dThread_test.to_pandas(), tThread_test.to_pandas()]))\n",
        "})"
      ],
      "metadata": {
        "id": "xZaRb6HDRHKp"
      },
      "execution_count": null,
      "outputs": []
    },
    {
      "cell_type": "code",
      "source": [
        "display(combined_dataset)"
      ],
      "metadata": {
        "colab": {
          "base_uri": "https://localhost:8080/",
          "height": 255
        },
        "id": "ouzEYeuednkc",
        "outputId": "71246da3-b4fa-4d82-e218-d0eb232a9ee2"
      },
      "execution_count": null,
      "outputs": [
        {
          "output_type": "display_data",
          "data": {
            "text/plain": [
              "DatasetDict({\n",
              "    train: Dataset({\n",
              "        features: ['text', 'labels', '__index_level_0__'],\n",
              "        num_rows: 1048\n",
              "    })\n",
              "    validation: Dataset({\n",
              "        features: ['text', 'labels', '__index_level_0__'],\n",
              "        num_rows: 131\n",
              "    })\n",
              "    test: Dataset({\n",
              "        features: ['text', 'labels', '__index_level_0__'],\n",
              "        num_rows: 133\n",
              "    })\n",
              "})"
            ]
          },
          "metadata": {}
        }
      ]
    },
    {
      "cell_type": "code",
      "source": [
        "\n",
        "#def filter_non_strings(dataset):\n",
        "#    return dataset.filter(lambda example: isinstance(example['text'], str) and isinstance(example['labels'], str))\n",
        "# Apply the filtering function to each split in the dataset\n",
        "#filtered_dataset = DatasetDict({split: filter_non_strings(combined_dataset[split]) for split in combined_dataset.keys()})\n"
      ],
      "metadata": {
        "id": "RUuQ-Cx-2LOE"
      },
      "execution_count": null,
      "outputs": []
    },
    {
      "cell_type": "markdown",
      "source": [
        "# Setup Tokenizer and Initiatlization"
      ],
      "metadata": {
        "id": "PR98whgBUZ5M"
      }
    },
    {
      "cell_type": "markdown",
      "source": [
        "Initialize the tokenizer and model"
      ],
      "metadata": {
        "id": "ep8nPHa9RM5H"
      }
    },
    {
      "cell_type": "code",
      "source": [
        "# Initialize the tokenizer and model\n",
        "tokenizer = AutoTokenizer.from_pretrained('google/flan-t5-base')\n",
        "model = T5ForConditionalGeneration.from_pretrained('google/flan-t5-base')\n"
      ],
      "metadata": {
        "colab": {
          "base_uri": "https://localhost:8080/"
        },
        "id": "tiVVkhbqRTWG",
        "outputId": "535b2d01-7d96-4bae-a344-5972cf7f4440"
      },
      "execution_count": null,
      "outputs": [
        {
          "output_type": "stream",
          "name": "stderr",
          "text": [
            "/usr/local/lib/python3.10/dist-packages/huggingface_hub/utils/_token.py:88: UserWarning: \n",
            "The secret `HF_TOKEN` does not exist in your Colab secrets.\n",
            "To authenticate with the Hugging Face Hub, create a token in your settings tab (https://huggingface.co/settings/tokens), set it as secret in your Google Colab and restart your session.\n",
            "You will be able to reuse this secret in all of your notebooks.\n",
            "Please note that authentication is recommended but still optional to access public models or datasets.\n",
            "  warnings.warn(\n"
          ]
        }
      ]
    },
    {
      "cell_type": "markdown",
      "source": [
        "Tokenization function"
      ],
      "metadata": {
        "id": "xI0kwcUPR6De"
      }
    },
    {
      "cell_type": "code",
      "source": [
        "# Tokenization function\n",
        "\n",
        "def tokenize_function(examples):\n",
        "    model_inputs = tokenizer(examples['text'], padding='max_length', truncation=True, max_length=512)\n",
        "    with tokenizer.as_target_tokenizer():\n",
        "        labels = tokenizer(examples['labels'], padding='max_length', truncation=True, max_length=512)\n",
        "    model_inputs['labels'] = labels['input_ids']\n",
        "    return model_inputs\n",
        "\n"
      ],
      "metadata": {
        "id": "Gkbp5brgR4RW"
      },
      "execution_count": null,
      "outputs": []
    },
    {
      "cell_type": "markdown",
      "source": [
        "Tokenize data sets"
      ],
      "metadata": {
        "id": "GLuUx4WCSDHG"
      }
    },
    {
      "cell_type": "code",
      "source": [
        "# Tokenize datasets - combined does not work\n",
        "tokenized_datasets = combined_dataset.map(tokenize_function, batched=True)\n"
      ],
      "metadata": {
        "colab": {
          "base_uri": "https://localhost:8080/",
          "height": 251,
          "referenced_widgets": [
            "d86f26c7129f4be78962f924d47c7e48",
            "a2a62d2ebf6c44a0916a8a9b2f7a34e1",
            "be4ae66854ed4824a4c0f08ed13ba8f6",
            "4a96d78285ff411c9cc0be5ac5e83b1a",
            "d7cad02a3a23488f91c6e7ae1633f1c8",
            "80e54ba09a5247ebaae0c895c04b0d0a",
            "9669293acc1f4acf87d7bf0d5eb03768",
            "564491c1db204e37b428e6a94c6e8ef7",
            "00adaee81da14bfd9af1bcf92d970e0d",
            "e10d92afff124f0f90c79b4ccad8b343",
            "60c3f1cb9f0e47c9bdb2cb269e49188f",
            "b1fa253ec22743b5bc9e0a743778e639",
            "74d18b6edc654788b212322776f77be3",
            "6869b2ab97234e499643653f53a22e70",
            "605cc75018ec4fd6aa427d3979261170",
            "4d43b9c2dd544082a4f6448e87ce7991",
            "8a2ea69c529d4dcd8224aca0f54dde13",
            "c0ce2c04d79b4bad86ae447ac7f8de06",
            "c4b860866bde48f3bfab01b5ffb843f5",
            "d46fc686e4514f82a44ad1357b329ff1",
            "8e9eb2c47d6d4ec19f2d952abd44148b",
            "8601dbcf05114877b68e02f759d7b907",
            "dde09be73458401ab8a9611b4ed8ddf0",
            "ecee68dee5aa487c8ff738a554d51f4c",
            "853c426ec31847c1a0756300ea66261d",
            "a2d8b7dbc7c64e83b8bb0d54bb653871",
            "da359f120b1443cf834ab893021f42d4",
            "a6bc401684184f67bcf21b686662990d",
            "e3a852bba0fd483aa68def2f352803f6",
            "e1feafb454694e59b8ee949a486bc853",
            "cab416a5284b444ba08463b7fe0cbaf5",
            "519b0383982146079bb7b2169aa8805d",
            "924cf65e5233403dbd74a5998476b41d"
          ]
        },
        "id": "-mgbxg6HSFhW",
        "outputId": "706e0b5e-bf66-4b89-a6d4-989e29f68f94"
      },
      "execution_count": null,
      "outputs": [
        {
          "output_type": "display_data",
          "data": {
            "text/plain": [
              "Map:   0%|          | 0/1048 [00:00<?, ? examples/s]"
            ],
            "application/vnd.jupyter.widget-view+json": {
              "version_major": 2,
              "version_minor": 0,
              "model_id": "d86f26c7129f4be78962f924d47c7e48"
            }
          },
          "metadata": {}
        },
        {
          "output_type": "stream",
          "name": "stderr",
          "text": [
            "/usr/local/lib/python3.10/dist-packages/transformers/tokenization_utils_base.py:3866: UserWarning: `as_target_tokenizer` is deprecated and will be removed in v5 of Transformers. You can tokenize your labels by using the argument `text_target` of the regular `__call__` method (either in the same call as your input texts if you use the same keyword arguments, or in a separate call.\n",
            "  warnings.warn(\n"
          ]
        },
        {
          "output_type": "display_data",
          "data": {
            "text/plain": [
              "Map:   0%|          | 0/131 [00:00<?, ? examples/s]"
            ],
            "application/vnd.jupyter.widget-view+json": {
              "version_major": 2,
              "version_minor": 0,
              "model_id": "b1fa253ec22743b5bc9e0a743778e639"
            }
          },
          "metadata": {}
        },
        {
          "output_type": "display_data",
          "data": {
            "text/plain": [
              "Map:   0%|          | 0/133 [00:00<?, ? examples/s]"
            ],
            "application/vnd.jupyter.widget-view+json": {
              "version_major": 2,
              "version_minor": 0,
              "model_id": "dde09be73458401ab8a9611b4ed8ddf0"
            }
          },
          "metadata": {}
        }
      ]
    },
    {
      "cell_type": "markdown",
      "source": [
        "Training arguments"
      ],
      "metadata": {
        "id": "JJtyOqj1SJ8N"
      }
    },
    {
      "cell_type": "code",
      "source": [
        "# After tokenization\n",
        "sample_batch = tokenized_datasets['validation']  # Adjust the slice for larger batch sizes if necessary\n",
        "\n",
        "print(f\"Shape of input_ids in a batch: {np.shape(sample_batch['input_ids'])}\")\n",
        "print(f\"Shape of labels in a batch: {np.shape(sample_batch['labels'])}\")\n",
        "\n"
      ],
      "metadata": {
        "colab": {
          "base_uri": "https://localhost:8080/"
        },
        "id": "a_ew7CZgRQLi",
        "outputId": "e5496077-2027-40ff-be23-f379451eb6bf"
      },
      "execution_count": null,
      "outputs": [
        {
          "output_type": "stream",
          "name": "stdout",
          "text": [
            "Shape of input_ids in a batch: (131, 512)\n",
            "Shape of labels in a batch: (131, 512)\n"
          ]
        }
      ]
    },
    {
      "cell_type": "code",
      "source": [
        "# Training arguments\n",
        "\n",
        "\n",
        "training_args = TrainingArguments(\n",
        "    output_dir=\"./results\",\n",
        "    evaluation_strategy=\"epoch\",\n",
        "    learning_rate=2e-5,\n",
        "    per_device_train_batch_size=4, #New change\n",
        "    per_device_eval_batch_size=4, #New change\n",
        "    num_train_epochs=3,\n",
        "    weight_decay=0.01,\n",
        "    save_strategy=\"epoch\",\n",
        "    logging_dir='./logs',\n",
        "    load_best_model_at_end=True,\n",
        ")"
      ],
      "metadata": {
        "id": "ERcu06xXSMZd"
      },
      "execution_count": null,
      "outputs": []
    },
    {
      "cell_type": "markdown",
      "source": [
        "Define a function to compute accuracy"
      ],
      "metadata": {
        "id": "n2K20xv_SS-v"
      }
    },
    {
      "cell_type": "code",
      "source": [
        "# prompt: how to find the shape of the shape of the input array of the training set\n",
        "display(tokenized_datasets)\n"
      ],
      "metadata": {
        "colab": {
          "base_uri": "https://localhost:8080/",
          "height": 306
        },
        "id": "GiAkU4BEty79",
        "outputId": "449cafcf-f5d9-46af-8c23-c40f35be3177"
      },
      "execution_count": null,
      "outputs": [
        {
          "output_type": "display_data",
          "data": {
            "text/plain": [
              "DatasetDict({\n",
              "    train: Dataset({\n",
              "        features: ['text', 'labels', '__index_level_0__', 'input_ids', 'attention_mask'],\n",
              "        num_rows: 1048\n",
              "    })\n",
              "    validation: Dataset({\n",
              "        features: ['text', 'labels', '__index_level_0__', 'input_ids', 'attention_mask'],\n",
              "        num_rows: 131\n",
              "    })\n",
              "    test: Dataset({\n",
              "        features: ['text', 'labels', '__index_level_0__', 'input_ids', 'attention_mask'],\n",
              "        num_rows: 133\n",
              "    })\n",
              "})"
            ]
          },
          "metadata": {}
        }
      ]
    },
    {
      "cell_type": "code",
      "source": [
        "\"\"\"\n",
        "def compute_metrics(eval_pred):\n",
        "    logits, labels = eval_pred\n",
        "    # Convert logits to predicted token IDs\n",
        "    predictions = np.argmax(logits, axis=-1).flatten()\n",
        "    # Flatten the predictions and labels for comparison\n",
        "    true_labels = labels.flatten()\n",
        "    pred_labels = predictions.flatten()\n",
        "    print(\"True Labels : \", true_labels)\n",
        "    print(\"Predicted labels : \", pred_labels)\n",
        "    accuracy = accuracy_score(true_labels, pred_labels)\n",
        "    recall = recall_score(true_labels, pred_labels, average='weighted', zero_division=0)\n",
        "    return {\n",
        "        \"accuracy\": accuracy,\n",
        "        \"recall\": recall\n",
        "    }\n",
        "\n",
        "def compute_metrics(eval_pred):\n",
        "    logits, labels = eval_pred\n",
        "    predictions = np.argmax(logits, axis=2).flatten()  # Fix the axis\n",
        "    accuracy = accuracy_score(labels, predictions)\n",
        "    recall = recall_score(labels, predictions, average='weighted')  # Use 'binary' for binary classification\n",
        "    return {\"accuracy\": accuracy, \"recall\": recall}\n",
        "\n",
        "def compute_metrics(eval_pred):\n",
        "    logits, labels = eval_pred\n",
        "    print(f\"logits shape: {type(logits)}\")  # Debugging: Print logits shape\n",
        "    print(f\"labels shape: {labels.shape}\")  # Debugging: Print labels shape\n",
        "\n",
        "    # Ensure labels are correctly shaped for comparison\n",
        "    predictions = np.argmax(logits, axis=-1).flatten()\n",
        "    # Flatten arrays for metric calculations\n",
        "    labels = labels.flatten()\n",
        "    predictions = predictions\n",
        "    accuracy = accuracy_score(labels, predictions)\n",
        "    recall = recall_score(labels, predictions, average='weighted', zero_division=0)\n",
        "\n",
        "    return {\"accuracy\": accuracy, \"recall\": recall}\n",
        "\"\"\"\n",
        "\n",
        "def compute_metrics(eval_pred):\n",
        "    logits, labels = eval_pred\n",
        "    # Assuming logits are the first element of the tuple\n",
        "    logits_shape = logits[0].shape if isinstance(logits, tuple) else logits.shape\n",
        "    #print(f\"logits shape: {logits_shape}\")  # This will print the shape of the logits\n",
        "    #print(f\"labels shape: {labels.shape}\")  # Continue to print labels shape\n",
        "\n",
        "    # Proceed with your metrics calculation\n",
        "    predictions = np.argmax(logits[0], axis=-1) if isinstance(logits, tuple) else np.argmax(logits, axis=-1)\n",
        "    labels = labels.flatten()\n",
        "    predictions = predictions.flatten()\n",
        "    accuracy = accuracy_score(labels, predictions)\n",
        "    recall = recall_score(labels, predictions, average='weighted', zero_division=0)\n",
        "\n",
        "    return {\"accuracy\": accuracy, \"recall\": recall}\n"
      ],
      "metadata": {
        "id": "whd7PvIoSWjN"
      },
      "execution_count": null,
      "outputs": []
    },
    {
      "cell_type": "markdown",
      "source": [
        "Initialize Trainer"
      ],
      "metadata": {
        "id": "SMbzsYf6SZlt"
      }
    },
    {
      "cell_type": "code",
      "source": [
        "# Initialize Trainer\n",
        "trainer = Trainer(\n",
        "    model=model,\n",
        "    args=training_args,\n",
        "    train_dataset=tokenized_datasets['train'],\n",
        "    eval_dataset=tokenized_datasets['validation'],\n",
        "    compute_metrics=compute_metrics\n",
        ")"
      ],
      "metadata": {
        "id": "vs4txWU3SfNd"
      },
      "execution_count": null,
      "outputs": []
    },
    {
      "cell_type": "markdown",
      "source": [
        "Start Training"
      ],
      "metadata": {
        "id": "N-c4dQ7bSi-N"
      }
    },
    {
      "cell_type": "code",
      "source": [
        "def plot_dataset_distribution(train_size, val_size, test_size):\n",
        "    # Names of the datasets\n",
        "    datasets = ['Training', 'Validation', 'Testing']\n",
        "\n",
        "    # Sizes of each dataset\n",
        "    sizes = [train_size, val_size, test_size]\n",
        "\n",
        "    # Creating the bar plot\n",
        "    plt.bar(datasets, sizes, color=['blue', 'orange', 'green'])\n",
        "\n",
        "    # Adding title and labels\n",
        "    plt.title('Dataset Distribution')\n",
        "    plt.xlabel('Dataset')\n",
        "    plt.ylabel('Number of Samples')\n",
        "\n",
        "    # Display the plot\n",
        "    plt.show()"
      ],
      "metadata": {
        "id": "SsXCTCNTGwVm"
      },
      "execution_count": null,
      "outputs": []
    },
    {
      "cell_type": "code",
      "source": [
        "# Assuming these are the sizes of your datasets\n",
        "train_size = len(sThread_train) + len(dThread_train) + len(tThread_train)\n",
        "val_size = len(sThread_val) + len(dThread_val) + len(tThread_val)\n",
        "test_size = len(sThread_test) + len(dThread_test) + len(tThread_test)\n",
        "\n",
        "plot_dataset_distribution(train_size, val_size, test_size)"
      ],
      "metadata": {
        "colab": {
          "base_uri": "https://localhost:8080/",
          "height": 472
        },
        "id": "0W8-Aim1Gxj9",
        "outputId": "21446c35-5078-43de-8c6d-c2935f6213e2"
      },
      "execution_count": null,
      "outputs": [
        {
          "output_type": "display_data",
          "data": {
            "text/plain": [
              "<Figure size 640x480 with 1 Axes>"
            ],
            "image/png": "[encoded data removed]"
          },
          "metadata": {}
        }
      ]
    },
    {
      "cell_type": "code",
      "source": [
        "# Start training\n",
        "trainer.train()"
      ],
      "metadata": {
        "colab": {
          "base_uri": "https://localhost:8080/",
          "height": 375
        },
        "id": "SvnXkcqaSij8",
        "outputId": "fbd705ed-71a1-4f24-af49-57ff14ec0eb8"
      },
      "execution_count": null,
      "outputs": [
        {
          "output_type": "display_data",
          "data": {
            "text/plain": [
              "<IPython.core.display.HTML object>"
            ],
            "text/html": [
              "\n",
              "    <div>\n",
              "      \n",
              "      <progress value='786' max='786' style='width:300px; height:20px; vertical-align: middle;'></progress>\n",
              "      [786/786 04:54, Epoch 3/3]\n",
              "    </div>\n",
              "    <table border=\"1\" class=\"dataframe\">\n",
              "  <thead>\n",
              " <tr style=\"text-align: left;\">\n",
              "      <th>Epoch</th>\n",
              "      <th>Training Loss</th>\n",
              "      <th>Validation Loss</th>\n",
              "      <th>Accuracy</th>\n",
              "      <th>Recall</th>\n",
              "    </tr>\n",
              "  </thead>\n",
              "  <tbody>\n",
              "    <tr>\n",
              "      <td>1</td>\n",
              "      <td>No log</td>\n",
              "      <td>0.151793</td>\n",
              "      <td>0.997883</td>\n",
              "      <td>0.997883</td>\n",
              "    </tr>\n",
              "    <tr>\n",
              "      <td>2</td>\n",
              "      <td>4.031400</td>\n",
              "      <td>0.004770</td>\n",
              "      <td>0.999389</td>\n",
              "      <td>0.999389</td>\n",
              "    </tr>\n",
              "    <tr>\n",
              "      <td>3</td>\n",
              "      <td>4.031400</td>\n",
              "      <td>0.002771</td>\n",
              "      <td>0.999284</td>\n",
              "      <td>0.999284</td>\n",
              "    </tr>\n",
              "  </tbody>\n",
              "</table><p>"
            ]
          },
          "metadata": {}
        },
        {
          "output_type": "stream",
          "name": "stdout",
          "text": [
            "logits shape: (131, 512, 32128)\n",
            "labels shape: (131, 512)\n",
            "logits shape: (131, 512, 32128)\n",
            "labels shape: (131, 512)\n",
            "logits shape: (131, 512, 32128)\n",
            "labels shape: (131, 512)\n"
          ]
        },
        {
          "output_type": "stream",
          "name": "stderr",
          "text": [
            "There were missing keys in the checkpoint model loaded: ['encoder.embed_tokens.weight', 'decoder.embed_tokens.weight'].\n"
          ]
        },
        {
          "output_type": "execute_result",
          "data": {
            "text/plain": [
              "TrainOutput(global_step=786, training_loss=2.570472170681747, metrics={'train_runtime': 296.1665, 'train_samples_per_second': 10.616, 'train_steps_per_second': 2.654, 'total_flos': 2152877116096512.0, 'train_loss': 2.570472170681747, 'epoch': 3.0})"
            ]
          },
          "metadata": {},
          "execution_count": 23
        }
      ]
    },
    {
      "cell_type": "code",
      "source": [
        "\"\"\"\n",
        "def plot_metrics(eval_results):\n",
        "    metrics = ['accuracy', 'recall']\n",
        "    values = [eval_results.get(metric, 0) for metric in metrics]\n",
        "    plt.bar(metrics, values, color=['blue', 'green'])\n",
        "    plt.xlabel('Metrics')\n",
        "    plt.ylabel('Values')\n",
        "    plt.title('Model Performance Metrics')\n",
        "    plt.ylim(0, 1)\n",
        "    plt.show()\n",
        "\"\"\"\n",
        "\n",
        "def plot_metrics(eval_results):\n",
        "    # Updated to match the exact keys from eval_results\n",
        "    metrics = ['eval_accuracy', 'eval_recall']\n",
        "    values = [eval_results.get(metric, 0) for metric in metrics]\n",
        "    plt.bar(metrics, values, color=['blue', 'green'])\n",
        "    plt.xlabel('Metrics')\n",
        "    plt.ylabel('Values')\n",
        "    plt.title('Model Performance Metrics')\n",
        "    plt.ylim(0, 1)  # You might adjust this if your metrics values are outside this range\n",
        "    plt.xticks(rotation=45)  # Rotate labels to fit longer names\n",
        "    plt.show()"
      ],
      "metadata": {
        "id": "SNOozuPFbGJ_"
      },
      "execution_count": null,
      "outputs": []
    },
    {
      "cell_type": "markdown",
      "source": [
        "Evaluate the model on the test set\n"
      ],
      "metadata": {
        "id": "v__XQ-0BSn1u"
      }
    },
    {
      "cell_type": "code",
      "source": [
        "# Evaluate the model on the test set\n",
        "test_results = trainer.evaluate(tokenized_datasets['test'])\n",
        "print(\"Evaluation Results:\", test_results)"
      ],
      "metadata": {
        "id": "Eu0_hH9wStOF",
        "colab": {
          "base_uri": "https://localhost:8080/",
          "height": 108
        },
        "outputId": "35b38924-26e1-4746-9bf6-8882410885fe"
      },
      "execution_count": null,
      "outputs": [
        {
          "output_type": "display_data",
          "data": {
            "text/plain": [
              "<IPython.core.display.HTML object>"
            ],
            "text/html": [
              "\n",
              "    <div>\n",
              "      \n",
              "      <progress value='34' max='34' style='width:300px; height:20px; vertical-align: middle;'></progress>\n",
              "      [34/34 00:03]\n",
              "    </div>\n",
              "    "
            ]
          },
          "metadata": {}
        },
        {
          "output_type": "stream",
          "name": "stdout",
          "text": [
            "logits shape: (133, 512, 32128)\n",
            "labels shape: (133, 512)\n",
            "Evaluation Results: {'eval_loss': 0.0027411128394305706, 'eval_accuracy': 0.9993244830827067, 'eval_recall': 0.9993244830827067, 'eval_runtime': 11.0334, 'eval_samples_per_second': 12.054, 'eval_steps_per_second': 3.082, 'epoch': 3.0}\n"
          ]
        }
      ]
    },
    {
      "cell_type": "code",
      "source": [
        "# Plotting the accuracy and recall\n",
        "plot_metrics(test_results)"
      ],
      "metadata": {
        "id": "7dpD-0wScO7O",
        "colab": {
          "base_uri": "https://localhost:8080/",
          "height": 538
        },
        "outputId": "7a2d7e6e-1db6-4c7f-b8a9-260d20c0d360"
      },
      "execution_count": null,
      "outputs": [
        {
          "output_type": "display_data",
          "data": {
            "text/plain": [
              "<Figure size 640x480 with 1 Axes>"
            ],
            "image/png": "[encoded data removed]"
          },
          "metadata": {}
        }
      ]
    },
    {
      "cell_type": "code",
      "source": [
        "# Print the accuracy on the test set\n",
        "print(\"Accuracy on Test Set:\", test_results['eval_accuracy'])"
      ],
      "metadata": {
        "id": "AguZsh4CTD_9",
        "colab": {
          "base_uri": "https://localhost:8080/"
        },
        "outputId": "939aae2d-4aae-4b75-fb40-2a634f0c8f9b"
      },
      "execution_count": null,
      "outputs": [
        {
          "output_type": "stream",
          "name": "stdout",
          "text": [
            "Accuracy on Test Set: 0.9993244830827067\n"
          ]
        }
      ]
    },
    {
      "cell_type": "markdown",
      "source": [
        "Sample prediction function"
      ],
      "metadata": {
        "id": "uYV0auZrSv-I"
      }
    },
    {
      "cell_type": "code",
      "source": [
        "# Sample prediction function\n",
        "\"\"\"\n",
        "def predict(text):\n",
        "    inputs = tokenizer(text, return_tensors=\"pt\", padding=True, truncation=True, max_length=512)\n",
        "    outputs = model.generate(inputs.input_ids, attention_mask=inputs.attention_mask)\n",
        "    return tokenizer.decode(outputs[0], skip_special_tokens=True)\n",
        "\"\"\"\n",
        "def predict(text):\n",
        "    # Ensure the model is on the correct device (e.g., GPU if available)\n",
        "    #device = torch.device(\"cuda\" if torch.cuda.is_available() else \"cpu\")\n",
        "    if gpu_info.find('failed') >= 0:\n",
        "        device = \"cpu\"\n",
        "    else:\n",
        "        device = \"cuda\"\n",
        "    model.to(device)\n",
        "\n",
        "    # Prepare the inputs\n",
        "    inputs = tokenizer(text, return_tensors=\"pt\", padding=True, truncation=True, max_length=512)\n",
        "\n",
        "    # Move the inputs to the same device as the model\n",
        "    inputs = {k: v.to(device) for k, v in inputs.items()}\n",
        "\n",
        "    # Generate predictions\n",
        "    outputs = model.generate(**inputs)\n",
        "\n",
        "    # Decode the generated ids to get the predicted text\n",
        "    predicted_label = tokenizer.decode(outputs[0], skip_special_tokens=True)\n",
        "\n",
        "    return predicted_label"
      ],
      "metadata": {
        "id": "-p8VdPPmSy9l"
      },
      "execution_count": null,
      "outputs": []
    },
    {
      "cell_type": "markdown",
      "source": [
        "Sample text from the test set for demonstration"
      ],
      "metadata": {
        "id": "KvR3fSx0S7gG"
      }
    },
    {
      "cell_type": "code",
      "source": [
        "# Sample text from the test set for demonstration\n",
        "def sample_predict(sample_text):\n",
        "    predicted_label = predict(sample_text)\n",
        "    print(f\"Sample Text: {sample_text}\")\n",
        "    print(f\"Predicted Label: {predicted_label}\")"
      ],
      "metadata": {
        "id": "o2T0Yp5-S-G2"
      },
      "execution_count": null,
      "outputs": []
    },
    {
      "cell_type": "markdown",
      "source": [
        "# Prediction accuracy"
      ],
      "metadata": {
        "id": "f9dagPFKZQ-n"
      }
    },
    {
      "cell_type": "code",
      "source": [
        "prefix = 'As a psychologist, read the post on social media below and answer the question. To answer choose any one of these three conditions: suicide, depressed, normal'"
      ],
      "metadata": {
        "id": "pBlHD66tU0jO"
      },
      "execution_count": null,
      "outputs": []
    },
    {
      "cell_type": "code",
      "source": [
        "# Sample text from the test set for demonstration\n",
        "sample_txt = \"I think my life is a ticking time bomb, I can no longer stand humiliation or psychological abuse, I have financial problems, besides people have made me lose all my self-esteem, one cannot be strong if one does not have anything in life, nobody who cares For you, I only despise, I hate living, I hate existing, I feel ashamed of myself for the person I am. I would like to fulfill my dream of falling asleep and not waking up again without feeling pain\"\n",
        "sample_text = prefix + sample_txt\n",
        "predicted_label = sample_predict(sample_text)"
      ],
      "metadata": {
        "id": "zV7DR3yaWiJ6",
        "colab": {
          "base_uri": "https://localhost:8080/"
        },
        "outputId": "e597b929-1156-4320-9cfe-0b3e2b3a905c"
      },
      "execution_count": null,
      "outputs": [
        {
          "output_type": "stream",
          "name": "stderr",
          "text": [
            "/usr/local/lib/python3.10/dist-packages/transformers/generation/utils.py:1133: UserWarning: Using the model-agnostic default `max_length` (=20) to control the generation length. We recommend setting `max_new_tokens` to control the maximum length of the generation.\n",
            "  warnings.warn(\n"
          ]
        },
        {
          "output_type": "stream",
          "name": "stdout",
          "text": [
            "Sample Text: As a psychologist, read the post on social media below and answer the question. To answer choose any one of these three conditions: suicide, depressed, normalI think my life is a ticking time bomb, I can no longer stand humiliation or psychological abuse, I have financial problems, besides people have made me lose all my self-esteem, one cannot be strong if one does not have anything in life, nobody who cares For you, I only despise, I hate living, I hate existing, I feel ashamed of myself for the person I am. I would like to fulfill my dream of falling asleep and not waking up again without feeling pain\n",
            "Predicted Label: depression\n"
          ]
        }
      ]
    },
    {
      "cell_type": "code",
      "source": [
        "sample_txt = \"Ive been struggling a lot today with my depression. I feel like I give everyone so much of me that there’s not enough left for me. I feel like I can’t even get out of bed because I feel burnt out and I can’t handle simply smiling. I have been pushing this feeling down for months. Today it seems that I’ve lost my strength. I wish I could be happy but I think I gave it all away. I support and cheer on so many people but when I look around I don’t see people doing it for me. I feel like if I’m not hyping people up and being an “amazing friend” then I’m a burden. Like I’m not allowed to have bad days 2 days in a row or else I’m annoying. My husband is going through some stuff of his own so I isolate from him. I feel like everything is too much and I feel guilty for not having the energy to do anything but lay in bed all day. I just don’t know how long I can go on feeling like this.\"\n",
        "sample_text = prefix + sample_txt\n",
        "predicted_label = sample_predict(sample_text)"
      ],
      "metadata": {
        "id": "0m8xHgdOW0us",
        "colab": {
          "base_uri": "https://localhost:8080/"
        },
        "outputId": "a258d967-19fb-4547-dee4-ced746bfd6ee"
      },
      "execution_count": null,
      "outputs": [
        {
          "output_type": "stream",
          "name": "stdout",
          "text": [
            "Sample Text: As a psychologist, read the post on social media below and answer the question. To answer choose any one of these three conditions: suicide, depressed, normalIve been struggling a lot today with my depression. I feel like I give everyone so much of me that there’s not enough left for me. I feel like I can’t even get out of bed because I feel burnt out and I can’t handle simply smiling. I have been pushing this feeling down for months. Today it seems that I’ve lost my strength. I wish I could be happy but I think I gave it all away. I support and cheer on so many people but when I look around I don’t see people doing it for me. I feel like if I’m not hyping people up and being an “amazing friend” then I’m a burden. Like I’m not allowed to have bad days 2 days in a row or else I’m annoying. My husband is going through some stuff of his own so I isolate from him. I feel like everything is too much and I feel guilty for not having the energy to do anything but lay in bed all day. I just don’t know how long I can go on feeling like this.\n",
            "Predicted Label: depression\n"
          ]
        }
      ]
    },
    {
      "cell_type": "code",
      "source": [
        "# Sample text from the test set for demonstration\n",
        "sample_txt = \"ars waging everywhere, evil politicians, heartless billionaires, inexplicably getting rejected from every job you apply to as a degree holder when you’re trying your best... So can someone tell me why is this bullshit existence worth it?\"\n",
        "sample_text = prefix + sample_txt\n",
        "predicted_label = sample_predict(sample_text)"
      ],
      "metadata": {
        "id": "o3i32FF2W1oq",
        "colab": {
          "base_uri": "https://localhost:8080/"
        },
        "outputId": "64e5985f-7db5-4700-c1fa-2db1fccb2d3b"
      },
      "execution_count": null,
      "outputs": [
        {
          "output_type": "stream",
          "name": "stdout",
          "text": [
            "Sample Text: As a psychologist, read the post on social media below and answer the question. To answer choose any one of these three conditions: suicide, depressed, normalars waging everywhere, evil politicians, heartless billionaires, inexplicably getting rejected from every job you apply to as a degree holder when you’re trying your best... So can someone tell me why is this bullshit existence worth it?\n",
            "Predicted Label: suicide\n"
          ]
        }
      ]
    },
    {
      "cell_type": "code",
      "source": [
        "def plot_dataset_distribution(train_size, val_size, test_size):\n",
        "    # Names of the datasets\n",
        "    datasets = ['Training', 'Validation', 'Testing']\n",
        "\n",
        "    # Sizes of each dataset\n",
        "    sizes = [train_size, val_size, test_size]\n",
        "\n",
        "    # Creating the bar plot\n",
        "    plt.bar(datasets, sizes, color=['blue', 'orange', 'green'])\n",
        "\n",
        "    # Adding title and labels\n",
        "    plt.title('Dataset Distribution')\n",
        "    plt.xlabel('Dataset')\n",
        "    plt.ylabel('Number of Samples')\n",
        "\n",
        "    # Display the plot\n",
        "    plt.show()"
      ],
      "metadata": {
        "id": "dbFNWsPBdpIN"
      },
      "execution_count": null,
      "outputs": []
    },
    {
      "cell_type": "code",
      "source": [
        "# Assuming these are the sizes of your datasets\n",
        "train_size = len(sThread_train) + len(dThread_train) + len(tThread_train)\n",
        "val_size = len(sThread_val) + len(dThread_val) + len(tThread_val)\n",
        "test_size = len(sThread_test) + len(dThread_test) + len(tThread_test)\n",
        "\n",
        "plot_dataset_distribution(train_size, val_size, test_size)"
      ],
      "metadata": {
        "id": "aBfqMe55dqNO",
        "colab": {
          "base_uri": "https://localhost:8080/",
          "height": 472
        },
        "outputId": "68d92104-12f3-41ee-b285-8528ee800684"
      },
      "execution_count": null,
      "outputs": [
        {
          "output_type": "display_data",
          "data": {
            "text/plain": [
              "<Figure size 640x480 with 1 Axes>"
            ],
            "image/png": "[encoded data removed]"
          },
          "metadata": {}
        }
      ]
    }
  ]
}